{
 "cells": [
  {
   "cell_type": "markdown",
   "id": "cbefa890-925f-4a5f-b324-c3716ea546d3",
   "metadata": {},
   "source": [
    "# Pet bot Product Brainstorm"
   ]
  },
  {
   "cell_type": "markdown",
   "id": "ce21b051-156e-47d6-9919-227cde44eb41",
   "metadata": {},
   "source": [
    "## Part I: Chatgpt Prompting"
   ]
  },
  {
   "cell_type": "markdown",
   "id": "fe5a5343-795e-4403-a290-4a4da0a92aa1",
   "metadata": {},
   "source": [
    "**Prompt 1 for product ideation**: \n",
    "Create a product ideas based on a companion bot: https://www.bhphotovideo.com/c/product/1852338-REG/enabot_254564r_rola_mini_companion_robot.html/overview?ap=y&ap=y&smp=y&smp=y&store=420&smpm=ba_f2_lar&lsft=BI%3A514&gad_source=1&gad_campaignid=2085922695&gbraid=0AAAAAD7yMh1nIkq5qcNwI-47cGIP7jB9w&gclid=Cj0KCQjwuKnGBhD5ARIsAD19RsY9A_KVtMqJGJX0fHCGhFhcOUrRZEfprexgDtDUx75yzsMVGdmYmDMaApU9EALw_wcB. We want the product to serve as a companion bot with communication and entertainment functions but also be able to pick up stuff like food delivery. Make the product distinct from current marketing products. Create a 4Ps and generate 5 ideas."
   ]
  },
  {
   "cell_type": "markdown",
   "id": "7027882e-20ef-46c4-8ee1-7bb5b15fae7a",
   "metadata": {},
   "source": [
    "ChatGPT respond:\n",
    "**Idea #1: Pet-Pal Rover**\n",
    "\n",
    "Concept / Key Features:\n",
    "\n",
    "Looks like a friendly robotic pet (eg. small rover with expressive “eyes” / screen face, maybe some fur or soft texture) that follows you around, interacts, plays games, chats.\n",
    "\n",
    "Has small storage compartment / tray that can carry lightweight deliveries (takeout sushi, drinks, small packages).\n",
    "\n",
    "Capable of recognizing voice commands, gestures; can fetch things from kitchen counter, or deliver snacks from nearby table.\n",
    "\n",
    "“Mood” system: learns user preferences, plays music or shows media according to your mood; offers suggestions.\n",
    "\n",
    "Safety feature: obstacle avoidance, falls detection; returns to charging dock automatically.\n",
    "\n",
    "4Ps:\n",
    "\n",
    "4P\tDetails\n",
    "Product\tPet-Pal Rover; ~12-16 in wide, wheel based; screen for face; compartment/tray; remote app; voice, gesture, AI mood detection. Durable, washable surfaces; modular add-ons (e.g. extendable arm for small reach).\n",
    "Price\tPremium home companion; MSRP ~$1,200-1,500. Offer tiered versions: basic “entertainment + communication” for ~$900 (no tray or reduced carrying); full “delivery pickup” model at $1,500.\n",
    "Place\tE-commerce direct, specialty tech/home/gadget stores; partnerships with furniture stores; maybe pet stores. Launch in high-income urban markets where small-space living and delivery usage is common.\n",
    "Promotion\tEmphasize emotional connection (“a pet that delivers”), novelty. Demos in tech expos, home shows. Use influencer marketing (tech, lifestyle). Offer trial periods or “rent-to-own.” Show videos of fetching food, interacting. Bundle with partner food delivery services (discounts when using it).\n",
    "Idea #2: Work-Buddy Bot\n",
    "\n",
    "Concept / Key Features:\n",
    "\n",
    "Designed for home office / coworking spaces.\n",
    "\n",
    "Acts as virtual coworker: handles video messages, reminders, plays calming background sound, meditation prompts.\n",
    "\n",
    "Has a small extendable platform to bring coffee / lunch from kitchen to desk; integrated fridge compartment (kept cool) for small items; or heated compartment.\n",
    "\n",
    "Modular voice assistants integrated (calling, messages).\n",
    "\n",
    "“Presence” roaming camera to check on kids/pets while working.\n",
    "\n",
    "4Ps:\n",
    "\n",
    "4P\tDetails\n",
    "Product\tA compact wheeled or track-based robot (~20 lb) with insulated / cooled compartment; integrated screen; microphone/speakers; privacy shutter for camera; strong connectivity; secure cloud backend for messages.\n",
    "Price\tMid-high tier: ~$1,800. Could offer base model without cooled compartment for ~$1,300. Subscription for certain premium services (e.g. cloud features).\n",
    "Place\tOffice supply retailers; online; tie-ups with coworking spaces; B2B as office amenity.\n",
    "Promotion\tTarget remote workers; productivity influencers; demos in coworking spaces; offer in offices as perk; case studies showing increased comfort/efficiency. Maybe tie-ins with coffee makers / food delivery services (e.g “Work-Buddy will pick up your lunch”).\n",
    "Idea #3: ElderCare Companion\n",
    "\n",
    "Concept / Key Features:\n",
    "\n",
    "Focused on older adults: communication (video calling, reminders for meds, easy UI), entertainment (audio stories, gentle games, music).\n",
    "\n",
    "Ability to go to door to get delivered meals, bring groceries from kitchen; even bring assistive items (pill boxes, water).\n",
    "\n",
    "Has large buttons, emergency alert system, health monitoring sensors (optional heart rate, movement).\n",
    "\n",
    "Robust safety and simple navigation (ramps, thresholds).\n",
    "\n",
    "4Ps:\n",
    "\n",
    "4P\tDetails\n",
    "Product\tElderCare model: larger and sturdier; built-in health sensors; emergency call; simplified interface; autonomous navigation; safe for use in home with stairs etc.\n",
    "Price\tBecause of medical / health adjunct features: ~$2,000-2,500. There could be a base model (~$1,500) without sensors. Potential for insurance / health subsidy support.\n",
    "Place\tMedical supply stores; eldercare distributors; online; partnerships with assisted living / in-home care providers; potentially health insurance or governmental programs.\n",
    "Promotion\tEmphasize safety, peace of mind; testimonials from seniors / caregivers; demonstration events at senior centers; partnerships with healthcare providers; potential subsidy or reimbursement.\n",
    "Idea #4: Adventure Companion (Outdoor & Travel Capable)\n",
    "\n",
    "Concept / Key Features:\n",
    "\n",
    "Companion bot designed not just for indoors but rugged travel / outdoors (camping, RVs, etc.).\n",
    "\n",
    "Offers communication (satellite / off-grid connectivity), entertainment (projector screen, speakers), navigation help.\n",
    "\n",
    "Can carry supplies: snacks, water, gear; capable of fetching things from vehicle / campsite; even assist with hauling or setting up small items.\n",
    "\n",
    "Terrain adaptability: wheels/tracks; dust/water resistant; solar charging.\n",
    "\n",
    "4Ps:\n",
    "\n",
    "4P\tDetails\n",
    "Product\tRugged chassis; fold‐out platform or storage; deployable solar panel; built-in projector; speakers; durable wheels; perhaps drone companion or robotic arm for fetch.\n",
    "Price\tPremium: $2,500-3,500; maybe lighter version $1,800-2,000.\n",
    "Place\tOutdoor gear retailers; camping / RV supply stores; online; partner with travel companies.\n",
    "Promotion\tGear-reviews, outdoor influencers; test adventures; show scenarios like fetching supplies around campsite; trade shows for outdoor living; bundling with camping gear; “your travel buddy” messaging.\n",
    "Idea #5: Social Hub Bot\n",
    "\n",
    "Concept / Key Features:\n",
    "\n",
    "Designed for social settings: households that entertain, co-living spaces.\n",
    "\n",
    "Acts as host / hub: takes voice/video calls, projects video/music, plays games, hosting trivia nights; connects to house network.\n",
    "\n",
    "For deliveries: picks up food or packages from doors; brings items to living room, serves drinks.\n",
    "\n",
    "Adds social interactivity: can act as translator, display visitor messages, connect to social media feeds shown in shared spaces.\n",
    "\n",
    "4Ps:\n",
    "\n",
    "4P\tDetails\n",
    "Product\tLarger friendly design; arms or tray mechanisms; high-quality audio/video output; wifi mesh support; privacy features; multiple user profiles.\n",
    "Price\t$1,600-2,200 depending on size and media hardware; lower tier ~$1,300 without certain high-end speakers/screens.\n",
    "Place\tHome audio/video stores; electronics retailers; online; co-living apartment‐builders; real estate staging.\n",
    "Promotion\tHost/party-life angle; ads showing social settings; influencers in entertainment, party hosting; bundle with streaming service subscriptions; cross-promos with delivery services."
   ]
  },
  {
   "cell_type": "markdown",
   "id": "9295ffa6-4010-4a76-8c3b-3c7fda751233",
   "metadata": {},
   "source": [
    "**Prompt 2 for product names:**"
   ]
  },
  {
   "cell_type": "markdown",
   "id": "5631b200-24f4-4a97-885f-9e65a43728da",
   "metadata": {},
   "source": [
    "Here are some product name ideas for Idea #1: Pet-Pal Rover (a friendly robotic pet that delivers and entertains):\n",
    "\n",
    "Playful & Pet-Inspired\n",
    "\n",
    "FetchBot\n",
    "\n",
    "RoverGo\n",
    "\n",
    "Pawsy\n",
    "\n",
    "BuddyFetch\n",
    "\n",
    "SnackTail\n",
    "\n",
    "Friendly & Companion-Oriented\n",
    "\n",
    "Companio\n",
    "\n",
    "HearthBot\n",
    "\n",
    "PalMate\n",
    "\n",
    "NestRover\n",
    "\n",
    "Amico (means “friend” in Italian)\n",
    "\n",
    "Futuristic & Sleek\n",
    "\n",
    "NeoRover\n",
    "\n",
    "OrbitPal\n",
    "\n",
    "EvoFetch\n",
    "\n",
    "NovaBuddy\n",
    "\n",
    "LyraBot\n",
    "\n",
    "Hybrid (cute + functional)\n",
    "\n",
    "MunchMate (helps with snacks)\n",
    "\n",
    "ChumBot\n",
    "\n",
    "CarryPup\n",
    "\n",
    "GoFetchR\n",
    "\n",
    "TrolleyTail\n",
    "\n",
    "Would you like me to refine toward a techier brand vibe (like Tesla, Dyson, Apple naming) or a cuter, pet-like vibe (like Furby, Tamagotchi)?"
   ]
  },
  {
   "cell_type": "markdown",
   "id": "e48de1a2-eea3-4b0e-9362-49e8f6c87810",
   "metadata": {},
   "source": [
    "## Part II: Python API to LLMs"
   ]
  },
  {
   "cell_type": "markdown",
   "id": "31627932-4959-4df4-a042-92820185ffa9",
   "metadata": {},
   "source": [
    "### 1. Set up and view models"
   ]
  },
  {
   "cell_type": "code",
   "execution_count": 2,
   "id": "8c0d8b7a-6411-4d97-aca1-08b0315d7016",
   "metadata": {},
   "outputs": [],
   "source": [
    "import google.generativeai as genai\n",
    "from IPython.display import Image, display, Markdown\n",
    "from dotenv import load_dotenv\n",
    "import os\n",
    "_ = load_dotenv()"
   ]
  },
  {
   "cell_type": "code",
   "execution_count": 3,
   "id": "a16a8143-8000-4eee-baf5-8f47817f8ee4",
   "metadata": {},
   "outputs": [],
   "source": [
    "genai.configure()"
   ]
  },
  {
   "cell_type": "code",
   "execution_count": 4,
   "id": "13e5dfad-79b2-4f31-9495-19d9e74ed1f6",
   "metadata": {},
   "outputs": [
    {
     "data": {
      "text/markdown": [
       "**`models/embedding-gecko-001`** Obtain a distributed representation of a text.\n"
      ],
      "text/plain": [
       "<IPython.core.display.Markdown object>"
      ]
     },
     "metadata": {},
     "output_type": "display_data"
    },
    {
     "data": {
      "text/markdown": [
       "**`models/gemini-1.5-pro-latest`** Alias that points to the most recent production (non-experimental) release of Gemini 1.5 Pro, our mid-size multimodal model that supports up to 2 million tokens.\n"
      ],
      "text/plain": [
       "<IPython.core.display.Markdown object>"
      ]
     },
     "metadata": {},
     "output_type": "display_data"
    },
    {
     "data": {
      "text/markdown": [
       "**`models/gemini-1.5-pro-002`** Stable version of Gemini 1.5 Pro, our mid-size multimodal model that supports up to 2 million tokens, released in September of 2024.\n"
      ],
      "text/plain": [
       "<IPython.core.display.Markdown object>"
      ]
     },
     "metadata": {},
     "output_type": "display_data"
    },
    {
     "data": {
      "text/markdown": [
       "**`models/gemini-1.5-pro`** Stable version of Gemini 1.5 Pro, our mid-size multimodal model that supports up to 2 million tokens, released in May of 2024.\n"
      ],
      "text/plain": [
       "<IPython.core.display.Markdown object>"
      ]
     },
     "metadata": {},
     "output_type": "display_data"
    },
    {
     "data": {
      "text/markdown": [
       "**`models/gemini-1.5-flash-latest`** Alias that points to the most recent production (non-experimental) release of Gemini 1.5 Flash, our fast and versatile multimodal model for scaling across diverse tasks.\n"
      ],
      "text/plain": [
       "<IPython.core.display.Markdown object>"
      ]
     },
     "metadata": {},
     "output_type": "display_data"
    },
    {
     "data": {
      "text/markdown": [
       "**`models/gemini-1.5-flash`** Alias that points to the most recent stable version of Gemini 1.5 Flash, our fast and versatile multimodal model for scaling across diverse tasks.\n"
      ],
      "text/plain": [
       "<IPython.core.display.Markdown object>"
      ]
     },
     "metadata": {},
     "output_type": "display_data"
    },
    {
     "data": {
      "text/markdown": [
       "**`models/gemini-1.5-flash-002`** Stable version of Gemini 1.5 Flash, our fast and versatile multimodal model for scaling across diverse tasks, released in September of 2024.\n"
      ],
      "text/plain": [
       "<IPython.core.display.Markdown object>"
      ]
     },
     "metadata": {},
     "output_type": "display_data"
    },
    {
     "data": {
      "text/markdown": [
       "**`models/gemini-1.5-flash-8b`** Stable version of Gemini 1.5 Flash-8B, our smallest and most cost effective Flash model, released in October of 2024.\n"
      ],
      "text/plain": [
       "<IPython.core.display.Markdown object>"
      ]
     },
     "metadata": {},
     "output_type": "display_data"
    },
    {
     "data": {
      "text/markdown": [
       "**`models/gemini-1.5-flash-8b-001`** Stable version of Gemini 1.5 Flash-8B, our smallest and most cost effective Flash model, released in October of 2024.\n"
      ],
      "text/plain": [
       "<IPython.core.display.Markdown object>"
      ]
     },
     "metadata": {},
     "output_type": "display_data"
    },
    {
     "data": {
      "text/markdown": [
       "**`models/gemini-1.5-flash-8b-latest`** Alias that points to the most recent production (non-experimental) release of Gemini 1.5 Flash-8B, our smallest and most cost effective Flash model, released in October of 2024.\n"
      ],
      "text/plain": [
       "<IPython.core.display.Markdown object>"
      ]
     },
     "metadata": {},
     "output_type": "display_data"
    },
    {
     "data": {
      "text/markdown": [
       "**`models/gemini-2.5-pro-preview-03-25`** Gemini 2.5 Pro Preview 03-25\n"
      ],
      "text/plain": [
       "<IPython.core.display.Markdown object>"
      ]
     },
     "metadata": {},
     "output_type": "display_data"
    },
    {
     "data": {
      "text/markdown": [
       "**`models/gemini-2.5-flash-preview-05-20`** Preview release (April 17th, 2025) of Gemini 2.5 Flash\n"
      ],
      "text/plain": [
       "<IPython.core.display.Markdown object>"
      ]
     },
     "metadata": {},
     "output_type": "display_data"
    },
    {
     "data": {
      "text/markdown": [
       "**`models/gemini-2.5-flash`** Stable version of Gemini 2.5 Flash, our mid-size multimodal model that supports up to 1 million tokens, released in June of 2025.\n"
      ],
      "text/plain": [
       "<IPython.core.display.Markdown object>"
      ]
     },
     "metadata": {},
     "output_type": "display_data"
    },
    {
     "data": {
      "text/markdown": [
       "**`models/gemini-2.5-flash-lite-preview-06-17`** Preview release (June 11th, 2025) of Gemini 2.5 Flash-Lite\n"
      ],
      "text/plain": [
       "<IPython.core.display.Markdown object>"
      ]
     },
     "metadata": {},
     "output_type": "display_data"
    },
    {
     "data": {
      "text/markdown": [
       "**`models/gemini-2.5-pro-preview-05-06`** Preview release (May 6th, 2025) of Gemini 2.5 Pro\n"
      ],
      "text/plain": [
       "<IPython.core.display.Markdown object>"
      ]
     },
     "metadata": {},
     "output_type": "display_data"
    },
    {
     "data": {
      "text/markdown": [
       "**`models/gemini-2.5-pro-preview-06-05`** Preview release (June 5th, 2025) of Gemini 2.5 Pro\n"
      ],
      "text/plain": [
       "<IPython.core.display.Markdown object>"
      ]
     },
     "metadata": {},
     "output_type": "display_data"
    },
    {
     "data": {
      "text/markdown": [
       "**`models/gemini-2.5-pro`** Stable release (June 17th, 2025) of Gemini 2.5 Pro\n"
      ],
      "text/plain": [
       "<IPython.core.display.Markdown object>"
      ]
     },
     "metadata": {},
     "output_type": "display_data"
    },
    {
     "data": {
      "text/markdown": [
       "**`models/gemini-2.0-flash-exp`** Gemini 2.0 Flash Experimental\n"
      ],
      "text/plain": [
       "<IPython.core.display.Markdown object>"
      ]
     },
     "metadata": {},
     "output_type": "display_data"
    },
    {
     "data": {
      "text/markdown": [
       "**`models/gemini-2.0-flash`** Gemini 2.0 Flash\n"
      ],
      "text/plain": [
       "<IPython.core.display.Markdown object>"
      ]
     },
     "metadata": {},
     "output_type": "display_data"
    },
    {
     "data": {
      "text/markdown": [
       "**`models/gemini-2.0-flash-001`** Stable version of Gemini 2.0 Flash, our fast and versatile multimodal model for scaling across diverse tasks, released in January of 2025.\n"
      ],
      "text/plain": [
       "<IPython.core.display.Markdown object>"
      ]
     },
     "metadata": {},
     "output_type": "display_data"
    },
    {
     "data": {
      "text/markdown": [
       "**`models/gemini-2.0-flash-exp-image-generation`** Gemini 2.0 Flash (Image Generation) Experimental\n"
      ],
      "text/plain": [
       "<IPython.core.display.Markdown object>"
      ]
     },
     "metadata": {},
     "output_type": "display_data"
    },
    {
     "data": {
      "text/markdown": [
       "**`models/gemini-2.0-flash-lite-001`** Stable version of Gemini 2.0 Flash-Lite\n"
      ],
      "text/plain": [
       "<IPython.core.display.Markdown object>"
      ]
     },
     "metadata": {},
     "output_type": "display_data"
    },
    {
     "data": {
      "text/markdown": [
       "**`models/gemini-2.0-flash-lite`** Gemini 2.0 Flash-Lite\n"
      ],
      "text/plain": [
       "<IPython.core.display.Markdown object>"
      ]
     },
     "metadata": {},
     "output_type": "display_data"
    },
    {
     "data": {
      "text/markdown": [
       "**`models/gemini-2.0-flash-preview-image-generation`** Gemini 2.0 Flash Preview Image Generation\n"
      ],
      "text/plain": [
       "<IPython.core.display.Markdown object>"
      ]
     },
     "metadata": {},
     "output_type": "display_data"
    },
    {
     "data": {
      "text/markdown": [
       "**`models/gemini-2.0-flash-lite-preview-02-05`** Preview release (February 5th, 2025) of Gemini 2.0 Flash-Lite\n"
      ],
      "text/plain": [
       "<IPython.core.display.Markdown object>"
      ]
     },
     "metadata": {},
     "output_type": "display_data"
    },
    {
     "data": {
      "text/markdown": [
       "**`models/gemini-2.0-flash-lite-preview`** Preview release (February 5th, 2025) of Gemini 2.0 Flash-Lite\n"
      ],
      "text/plain": [
       "<IPython.core.display.Markdown object>"
      ]
     },
     "metadata": {},
     "output_type": "display_data"
    },
    {
     "data": {
      "text/markdown": [
       "**`models/gemini-2.0-pro-exp`** Experimental release (March 25th, 2025) of Gemini 2.5 Pro\n"
      ],
      "text/plain": [
       "<IPython.core.display.Markdown object>"
      ]
     },
     "metadata": {},
     "output_type": "display_data"
    },
    {
     "data": {
      "text/markdown": [
       "**`models/gemini-2.0-pro-exp-02-05`** Experimental release (March 25th, 2025) of Gemini 2.5 Pro\n"
      ],
      "text/plain": [
       "<IPython.core.display.Markdown object>"
      ]
     },
     "metadata": {},
     "output_type": "display_data"
    },
    {
     "data": {
      "text/markdown": [
       "**`models/gemini-exp-1206`** Experimental release (March 25th, 2025) of Gemini 2.5 Pro\n"
      ],
      "text/plain": [
       "<IPython.core.display.Markdown object>"
      ]
     },
     "metadata": {},
     "output_type": "display_data"
    },
    {
     "data": {
      "text/markdown": [
       "**`models/gemini-2.0-flash-thinking-exp-01-21`** Preview release (April 17th, 2025) of Gemini 2.5 Flash\n"
      ],
      "text/plain": [
       "<IPython.core.display.Markdown object>"
      ]
     },
     "metadata": {},
     "output_type": "display_data"
    },
    {
     "data": {
      "text/markdown": [
       "**`models/gemini-2.0-flash-thinking-exp`** Preview release (April 17th, 2025) of Gemini 2.5 Flash\n"
      ],
      "text/plain": [
       "<IPython.core.display.Markdown object>"
      ]
     },
     "metadata": {},
     "output_type": "display_data"
    },
    {
     "data": {
      "text/markdown": [
       "**`models/gemini-2.0-flash-thinking-exp-1219`** Preview release (April 17th, 2025) of Gemini 2.5 Flash\n"
      ],
      "text/plain": [
       "<IPython.core.display.Markdown object>"
      ]
     },
     "metadata": {},
     "output_type": "display_data"
    },
    {
     "data": {
      "text/markdown": [
       "**`models/gemini-2.5-flash-preview-tts`** Gemini 2.5 Flash Preview TTS\n"
      ],
      "text/plain": [
       "<IPython.core.display.Markdown object>"
      ]
     },
     "metadata": {},
     "output_type": "display_data"
    },
    {
     "data": {
      "text/markdown": [
       "**`models/gemini-2.5-pro-preview-tts`** Gemini 2.5 Pro Preview TTS\n"
      ],
      "text/plain": [
       "<IPython.core.display.Markdown object>"
      ]
     },
     "metadata": {},
     "output_type": "display_data"
    },
    {
     "data": {
      "text/markdown": [
       "**`models/learnlm-2.0-flash-experimental`** LearnLM 2.0 Flash Experimental\n"
      ],
      "text/plain": [
       "<IPython.core.display.Markdown object>"
      ]
     },
     "metadata": {},
     "output_type": "display_data"
    },
    {
     "data": {
      "text/markdown": [
       "**`models/gemma-3-1b-it`** \n"
      ],
      "text/plain": [
       "<IPython.core.display.Markdown object>"
      ]
     },
     "metadata": {},
     "output_type": "display_data"
    },
    {
     "data": {
      "text/markdown": [
       "**`models/gemma-3-4b-it`** \n"
      ],
      "text/plain": [
       "<IPython.core.display.Markdown object>"
      ]
     },
     "metadata": {},
     "output_type": "display_data"
    },
    {
     "data": {
      "text/markdown": [
       "**`models/gemma-3-12b-it`** \n"
      ],
      "text/plain": [
       "<IPython.core.display.Markdown object>"
      ]
     },
     "metadata": {},
     "output_type": "display_data"
    },
    {
     "data": {
      "text/markdown": [
       "**`models/gemma-3-27b-it`** \n"
      ],
      "text/plain": [
       "<IPython.core.display.Markdown object>"
      ]
     },
     "metadata": {},
     "output_type": "display_data"
    },
    {
     "data": {
      "text/markdown": [
       "**`models/gemma-3n-e4b-it`** \n"
      ],
      "text/plain": [
       "<IPython.core.display.Markdown object>"
      ]
     },
     "metadata": {},
     "output_type": "display_data"
    },
    {
     "data": {
      "text/markdown": [
       "**`models/gemma-3n-e2b-it`** \n"
      ],
      "text/plain": [
       "<IPython.core.display.Markdown object>"
      ]
     },
     "metadata": {},
     "output_type": "display_data"
    },
    {
     "data": {
      "text/markdown": [
       "**`models/gemini-2.5-flash-lite`** Stable version of Gemini 2.5 Flash-Lite, released in July of 2025\n"
      ],
      "text/plain": [
       "<IPython.core.display.Markdown object>"
      ]
     },
     "metadata": {},
     "output_type": "display_data"
    },
    {
     "data": {
      "text/markdown": [
       "**`models/gemini-2.5-flash-image-preview`** Gemini 2.5 Flash Preview Image\n"
      ],
      "text/plain": [
       "<IPython.core.display.Markdown object>"
      ]
     },
     "metadata": {},
     "output_type": "display_data"
    },
    {
     "data": {
      "text/markdown": [
       "**`models/embedding-001`** Obtain a distributed representation of a text.\n"
      ],
      "text/plain": [
       "<IPython.core.display.Markdown object>"
      ]
     },
     "metadata": {},
     "output_type": "display_data"
    },
    {
     "data": {
      "text/markdown": [
       "**`models/text-embedding-004`** Obtain a distributed representation of a text.\n"
      ],
      "text/plain": [
       "<IPython.core.display.Markdown object>"
      ]
     },
     "metadata": {},
     "output_type": "display_data"
    },
    {
     "data": {
      "text/markdown": [
       "**`models/gemini-embedding-exp-03-07`** Obtain a distributed representation of a text.\n"
      ],
      "text/plain": [
       "<IPython.core.display.Markdown object>"
      ]
     },
     "metadata": {},
     "output_type": "display_data"
    },
    {
     "data": {
      "text/markdown": [
       "**`models/gemini-embedding-exp`** Obtain a distributed representation of a text.\n"
      ],
      "text/plain": [
       "<IPython.core.display.Markdown object>"
      ]
     },
     "metadata": {},
     "output_type": "display_data"
    },
    {
     "data": {
      "text/markdown": [
       "**`models/gemini-embedding-001`** Obtain a distributed representation of a text.\n"
      ],
      "text/plain": [
       "<IPython.core.display.Markdown object>"
      ]
     },
     "metadata": {},
     "output_type": "display_data"
    },
    {
     "data": {
      "text/markdown": [
       "**`models/aqa`** Model trained to return answers to questions that are grounded in provided sources, along with estimating answerable probability.\n"
      ],
      "text/plain": [
       "<IPython.core.display.Markdown object>"
      ]
     },
     "metadata": {},
     "output_type": "display_data"
    },
    {
     "data": {
      "text/markdown": [
       "**`models/imagen-3.0-generate-002`** Vertex served Imagen 3.0 002 model\n"
      ],
      "text/plain": [
       "<IPython.core.display.Markdown object>"
      ]
     },
     "metadata": {},
     "output_type": "display_data"
    },
    {
     "data": {
      "text/markdown": [
       "**`models/imagen-4.0-generate-preview-06-06`** Vertex served Imagen 4.0 model\n"
      ],
      "text/plain": [
       "<IPython.core.display.Markdown object>"
      ]
     },
     "metadata": {},
     "output_type": "display_data"
    },
    {
     "data": {
      "text/markdown": [
       "**`models/imagen-4.0-ultra-generate-preview-06-06`** Vertex served Imagen 4.0 ultra model\n"
      ],
      "text/plain": [
       "<IPython.core.display.Markdown object>"
      ]
     },
     "metadata": {},
     "output_type": "display_data"
    },
    {
     "data": {
      "text/markdown": [
       "**`models/imagen-4.0-generate-001`** Vertex served Imagen 4.0 model\n"
      ],
      "text/plain": [
       "<IPython.core.display.Markdown object>"
      ]
     },
     "metadata": {},
     "output_type": "display_data"
    },
    {
     "data": {
      "text/markdown": [
       "**`models/imagen-4.0-ultra-generate-001`** Vertex served Imagen 4.0 ultra model\n"
      ],
      "text/plain": [
       "<IPython.core.display.Markdown object>"
      ]
     },
     "metadata": {},
     "output_type": "display_data"
    },
    {
     "data": {
      "text/markdown": [
       "**`models/imagen-4.0-fast-generate-001`** Vertex served Imagen 4.0 Fast model\n"
      ],
      "text/plain": [
       "<IPython.core.display.Markdown object>"
      ]
     },
     "metadata": {},
     "output_type": "display_data"
    },
    {
     "data": {
      "text/markdown": [
       "**`models/veo-2.0-generate-001`** Vertex served Veo 2 model. Access to this model requires billing to be enabled on the associated Google Cloud Platform account. Please visit https://console.cloud.google.com/billing to enable it.\n"
      ],
      "text/plain": [
       "<IPython.core.display.Markdown object>"
      ]
     },
     "metadata": {},
     "output_type": "display_data"
    },
    {
     "data": {
      "text/markdown": [
       "**`models/veo-3.0-generate-preview`** Veo 3 preview.\n"
      ],
      "text/plain": [
       "<IPython.core.display.Markdown object>"
      ]
     },
     "metadata": {},
     "output_type": "display_data"
    },
    {
     "data": {
      "text/markdown": [
       "**`models/veo-3.0-fast-generate-preview`** Veo 3 fast preview.\n"
      ],
      "text/plain": [
       "<IPython.core.display.Markdown object>"
      ]
     },
     "metadata": {},
     "output_type": "display_data"
    },
    {
     "data": {
      "text/markdown": [
       "**`models/veo-3.0-generate-001`** Veo 3\n"
      ],
      "text/plain": [
       "<IPython.core.display.Markdown object>"
      ]
     },
     "metadata": {},
     "output_type": "display_data"
    },
    {
     "data": {
      "text/markdown": [
       "**`models/veo-3.0-fast-generate-001`** Veo 3 fast\n"
      ],
      "text/plain": [
       "<IPython.core.display.Markdown object>"
      ]
     },
     "metadata": {},
     "output_type": "display_data"
    },
    {
     "data": {
      "text/markdown": [
       "**`models/gemini-2.5-flash-preview-native-audio-dialog`** Gemini 2.5 Flash Preview Native Audio Dialog\n"
      ],
      "text/plain": [
       "<IPython.core.display.Markdown object>"
      ]
     },
     "metadata": {},
     "output_type": "display_data"
    },
    {
     "data": {
      "text/markdown": [
       "**`models/gemini-2.5-flash-exp-native-audio-thinking-dialog`** Gemini 2.5 Flash Exp Native Audio Thinking Dialog\n"
      ],
      "text/plain": [
       "<IPython.core.display.Markdown object>"
      ]
     },
     "metadata": {},
     "output_type": "display_data"
    },
    {
     "data": {
      "text/markdown": [
       "**`models/gemini-2.0-flash-live-001`** Gemini 2.0 Flash 001\n"
      ],
      "text/plain": [
       "<IPython.core.display.Markdown object>"
      ]
     },
     "metadata": {},
     "output_type": "display_data"
    },
    {
     "data": {
      "text/markdown": [
       "**`models/gemini-live-2.5-flash-preview`** Gemini Live 2.5 Flash Preview\n"
      ],
      "text/plain": [
       "<IPython.core.display.Markdown object>"
      ]
     },
     "metadata": {},
     "output_type": "display_data"
    },
    {
     "data": {
      "text/markdown": [
       "**`models/gemini-2.5-flash-live-preview`** Gemini 2.5 Flash Live Preview\n"
      ],
      "text/plain": [
       "<IPython.core.display.Markdown object>"
      ]
     },
     "metadata": {},
     "output_type": "display_data"
    }
   ],
   "source": [
    "model_names = list(genai.list_models())\n",
    "\n",
    "for model in model_names:\n",
    "    display(Markdown(f'**`{model.name}`** {model.description}\\n'))"
   ]
  },
  {
   "cell_type": "markdown",
   "id": "2ab22d12-2875-4275-87f7-e52cded2d2a0",
   "metadata": {},
   "source": [
    "### 2. Refine Product Description"
   ]
  },
  {
   "cell_type": "code",
   "execution_count": 6,
   "id": "20977a96-242a-4372-b2be-9c264cb3769b",
   "metadata": {},
   "outputs": [],
   "source": [
    "prompt_A = \"\"\"Product description: A companion robot that can serve as a pet and pick up/send objects for users.\n",
    "Seed words: companionship, delivery, patrol.\n",
    "Product names:\"\"\""
   ]
  },
  {
   "cell_type": "code",
   "execution_count": 7,
   "id": "51820217-9297-4c75-a2e0-32f1e2eba312",
   "metadata": {},
   "outputs": [
    {
     "name": "stdout",
     "output_type": "stream",
     "text": [
      "Okay, here are some product names for a companion robot designed for pet-like behavior and object delivery, incorporating the seed words “companionship,” “delivery,” and “patrol.” I’ve grouped them into categories based on the feeling they evoke:\n",
      "\n",
      "**1. Warm & Friendly:**\n",
      "\n",
      "*   **BuddyBot:** Simple, direct, and emphasizes companionship.\n",
      "*   **Kindred:** Suggests a gentle, supportive relationship.\n",
      "*   **Haven:** Implies a safe and comforting space.\n",
      "*   **Willow:** Evokes a gentle, natural feeling.\n",
      "\n",
      "**2. Practical & Reliable:**\n",
      "\n",
      "*   **SwiftPet:** Combines speed of delivery with pet-like care.\n",
      "*   **FetchAssist:**  Highlights the object retrieval aspect.\n",
      "*   **SteadyHome:**  Focuses on security and reliable service.\n",
      "*   **Orbit:** Suggests a helpful, circling presence.\n",
      "\n",
      "**3.  Modern & Techy:**\n",
      "\n",
      "*   **NexusPet:** \"Nexus\" implies a central connection and support.\n",
      "*   **AuraBot:**  \"Aura\" suggests a comforting presence and a personalized experience.\n",
      "*   **CorePal:**  \"Core\" represents the robot's essential function, \"Pal\" for companionship.\n",
      "*   **Synapse:**  Refers to the connection between systems and a feeling of intelligence.\n",
      "\n",
      "**4.  Playful & Engaging:**\n",
      "\n",
      "*   **Zoomie:**  Captures the playful nature of a pet.\n",
      "*   **Sparky:**  Suggests energy and a lively companion.\n",
      "*   **Rider:**  Implies a helpful, supportive presence.\n",
      "\n",
      "**My Top 3 Recommendations (Based on overall appeal):**\n",
      "\n",
      "1.  **BuddyBot:**  It’s memorable, clearly communicates the core function, and has a friendly feel.\n",
      "2.  **SwiftPet:**  It’s concise, highlights the key benefit (delivery), and has a positive connotation.\n",
      "3.  **NexusPet:**  It’s sophisticated and suggests a deeper level of connection.\n",
      "\n",
      "\n",
      "To help me refine these further, could you tell me:\n",
      "\n",
      "*   **What is the target audience for this robot?** (e.g., busy professionals, elderly individuals, pet owners?)\n",
      "*   **What is the overall aesthetic/style of the robot?** (e.g., sleek and modern, cozy and rustic, playful and cartoonish?)\n"
     ]
    }
   ],
   "source": [
    "model = genai.GenerativeModel(model_name=\"models/gemma-3-1b-it\")\n",
    "\n",
    "response = model.generate_content([prompt_A])\n",
    "\n",
    "print(response.text)"
   ]
  },
  {
   "cell_type": "code",
   "execution_count": 15,
   "id": "78d9230a-eb8f-4032-9d1f-6c652443efb9",
   "metadata": {},
   "outputs": [],
   "source": [
    "prompt_A = \"\"\"Product name: BuddyBot.\n",
    "Example description: The ROLA Mini Companion Robot from enabot is a smart, self-guided security robot that can patrol your home and record video on its own. This dual-band Wi-Fi robot has an integrated camera that captures 2K resolution video. It features night vision, two-way audio thanks to a built-in microphone and speaker, and obstacle avoidance. The built-in 5000mAh battery delivers up to 25 days of battery life on a full charge.\n",
    "Product description:\"\"\""
   ]
  },
  {
   "cell_type": "code",
   "execution_count": 16,
   "id": "1b5354b6-f4b1-4cf6-ad66-e08070fbd60f",
   "metadata": {},
   "outputs": [
    {
     "name": "stdout",
     "output_type": "stream",
     "text": [
      "Okay, here are a few product description options for the BuddyBot, building on the provided example and aiming for different tones and lengths:\n",
      "\n",
      "**Option 1 (Concise & Benefit-Focused - 75-100 words):**\n",
      "\n",
      "“Meet BuddyBot – your intelligent, self-guided security companion. This ROLA Mini Companion Robot is a smart, self-paced patrol robot designed to keep your home safe and secure. Featuring a 2K camera, night vision, and obstacle avoidance, BuddyBot intelligently navigates your property, recording video and alerting you to potential threats. With a long-lasting 5000mAh battery, you can enjoy up to 25 days of worry-free operation.  Protect what matters most with BuddyBot.”\n",
      "\n",
      "**Option 2 (More Detailed & Feature-Rich - 150-200 words):**\n",
      "\n",
      "“The BuddyBot is a revolutionary security robot designed to simplify home protection. This ROLA Mini Companion Robot combines intelligent navigation with robust features. Equipped with a high-resolution 2K camera, night vision, and obstacle avoidance technology, BuddyBot intelligently patrols your home, recording video footage for evidence and monitoring.  Its integrated microphone and speaker allow for two-way communication, providing peace of mind.  The built-in 5000mAh battery ensures up to 25 days of operation on a single charge, minimizing maintenance.  Easy to install and control via a simple mobile app, BuddyBot is the perfect solution for homeowners seeking a proactive and reliable security system.”\n",
      "\n",
      "**Option 3 (Short & Punchy - 50-75 words):**\n",
      "\n",
      "“Protect your home with BuddyBot! This ROLA Mini Companion Robot is a smart, self-guided security system. Featuring a 2K camera, night vision, obstacle avoidance, and a long-lasting 5000mAh battery, BuddyBot patrols your property, records video, and keeps you informed.  Get peace of mind with this intelligent and reliable robot.”\n",
      "\n",
      "---\n",
      "\n",
      "To help me tailor the description even further, could you tell me:\n",
      "\n",
      "*   **What is the primary target audience for this product?** (e.g., homeowners, renters, security professionals?)\n",
      "*   **What is the overall tone you're going for?** (e.g., professional, friendly, technical, exciting?)\n"
     ]
    }
   ],
   "source": [
    "model = genai.GenerativeModel(model_name=\"models/gemma-3-1b-it\")\n",
    "\n",
    "response = model.generate_content([prompt_A])\n",
    "\n",
    "print(response.text)"
   ]
  },
  {
   "cell_type": "markdown",
   "id": "72574558-8b2e-4548-b726-62975896afd1",
   "metadata": {},
   "source": [
    "### 3. Product Description with Image of the Product"
   ]
  },
  {
   "cell_type": "code",
   "execution_count": 14,
   "id": "2dd6e17d-0206-45e3-b094-41a987190e1b",
   "metadata": {},
   "outputs": [],
   "source": [
    "def encode_image(image_path):\n",
    "  with open(image_path, \"rb\") as image_file:\n",
    "    return base64.b64encode(image_file.read()).decode('utf-8')\n"
   ]
  },
  {
   "cell_type": "code",
   "execution_count": 15,
   "id": "3b618eac-8e4c-4f90-9186-72a45576a491",
   "metadata": {},
   "outputs": [
    {
     "name": "stdout",
     "output_type": "stream",
     "text": [
      "Uploaded file 'Buddybot' as: https://generativelanguage.googleapis.com/v1beta/files/roc54cbchkdj\n"
     ]
    }
   ],
   "source": [
    "sample_file = genai.upload_file(path=\"bot.jpg\",\n",
    "                                display_name=\"Buddybot\")\n",
    "\n",
    "print(f\"Uploaded file '{sample_file.display_name}' as: {sample_file.uri}\")"
   ]
  },
  {
   "cell_type": "code",
   "execution_count": 16,
   "id": "7ed0c14d-6ee1-491e-a94a-a8742f0cdb57",
   "metadata": {},
   "outputs": [
    {
     "data": {
      "image/jpeg": "[encoded data removed]",
      "text/plain": [
       "<IPython.core.display.Image object>"
      ]
     },
     "execution_count": 16,
     "metadata": {
      "image/jpeg": {
       "width": 300
      }
     },
     "output_type": "execute_result"
    }
   ],
   "source": [
    "Image('bot.jpg', width=300)"
   ]
  },
  {
   "cell_type": "code",
   "execution_count": 17,
   "id": "5d3d0b3b-36c2-4667-ac4a-411f2e9bc497",
   "metadata": {},
   "outputs": [
    {
     "name": "stdout",
     "output_type": "stream",
     "text": [
      "Here's a creative description of the image:\n",
      "\n",
      "---\n",
      "\n",
      "**\"The Curious Orb\"**\n",
      "\n",
      "From a pristine, white backdrop emerges a sleek, futuristic companion, almost like a benevolent digital pebble. Its body, a seamless canvas of pearlescent white, curves gracefully, hinting at a compact yet sophisticated internal world. But it's the \"face\" that truly captures attention – a smooth, glossy expanse of ebony that holds an enigmatic gaze.\n",
      "\n",
      "Two luminous, broken white rings, like a pair of perpetually surprised or deeply curious eyes, dominate its dark visage. They seem to be waiting, watching, perhaps eager to learn or respond. Between these radiant circles, a single, dark camera lens acts as a watchful pupil or a tiny, sophisticated nose, ready to capture the world. Above it, a faint, calming blue LED glows, a silent whisper of its operational status, like a spark of thought.\n",
      "\n",
      "Subtly peeking from beneath its gently rounded base are two textured, black wheels, suggesting silent, agile movement, ready to glide across surfaces. The word \"tela\" is elegantly scripted near its lower edge, a quiet brand mark hinting at its identity. This isn't just a gadget; it's a minimalist marvel, a silent observer with an expressive, almost endearing front, poised to be a friendly fixture in any modern space. It's the kind of bot that seems to hold untold stories, waiting for the right moment to share them.\n"
     ]
    }
   ],
   "source": [
    "model = genai.GenerativeModel(model_name=\"models/gemini-2.5-flash\")\n",
    "\n",
    "response = model.generate_content([\"Describe the image with a creative description.\", sample_file])\n",
    "\n",
    "print(response.text)"
   ]
  },
  {
   "cell_type": "code",
   "execution_count": 13,
   "id": "b5c1a435-8320-44cc-b3a7-3b68bcc2c934",
   "metadata": {},
   "outputs": [
    {
     "name": "stdout",
     "output_type": "stream",
     "text": [
      "Here's a creative and moving marketing description for Instagram:\n",
      "\n",
      "---\n",
      "\n",
      "Imagine a gentle blink in the quiet of your home, a silent guardian moving with purpose. ✨ Meet BuddyBot, your personal ROLA Mini Companion Robot, designed not just to watch, but to truly care.\n",
      "\n",
      "We know that feeling – the little worry that whispers when you're away, the desire to protect the sanctuary you've built. BuddyBot isn't just a gadget; it's a tireless, intelligent friend that understands what truly matters. With its friendly demeanor, BuddyBot autonomously patrols your home, its brilliant 2K camera and night vision acting as vigilant eyes that never miss a thing, day or night. 👀\n",
      "\n",
      "It navigates your space with grace thanks to advanced obstacle avoidance, recording every important moment and sending instant alerts directly to you if anything is amiss. That gnawing \"what if?\" is replaced with a profound sense of \"I know, and I'm safe.\"\n",
      "\n",
      "And with an incredible 25-day battery life on a single charge, BuddyBot offers continuous, worry-free protection, allowing you to live your life fully, knowing your home is watched over with unwavering dedication.\n",
      "\n",
      "Give your home the guardian it deserves. Give yourself the profound gift of complete peace of mind. Because protecting what matters most should feel effortless, comforting, and always within reach. ❤️\n",
      "\n",
      "#BuddyBot #ROLASecurity #SmartHome #HomeSecurity #PeaceOfMind #GuardianAngel #FamilySafety #ProtectWhatMatters #TechForGood #SmartLiving #WorryFreeHome #CompanionRobot #Innovation #FutureIsNow\n"
     ]
    }
   ],
   "source": [
    "model = genai.GenerativeModel(model_name=\"models/gemini-2.5-flash\")\n",
    "\n",
    "response = model.generate_content([\"Describe the image with a creative and moving marketing description that resonate with target users for using on Instagram posts. Meet BuddyBot – your intelligent, self-guided security companion. This ROLA Mini Companion Robot is a smart, self-paced patrol robot designed to keep your home safe and secure. Featuring a 2K camera, night vision, and obstacle avoidance, BuddyBot intelligently navigates your property, recording video and alerting you to potential threats. With a long-lasting 5000mAh battery, you can enjoy up to 25 days of worry-free operation.  Protect what matters most with BuddyBot.\", sample_file])\n",
    "\n",
    "print(response.text)"
   ]
  },
  {
   "cell_type": "code",
   "execution_count": null,
   "id": "f414bbfc-2bdd-4678-b90c-e74b89f3c4f5",
   "metadata": {},
   "outputs": [],
   "source": []
  },
  {
   "cell_type": "code",
   "execution_count": null,
   "id": "a0d83187-8607-477b-937b-fce4a8464ed5",
   "metadata": {
    "jupyter": {
     "source_hidden": true
    }
   },
   "outputs": [],
   "source": []
  }
 ],
 "metadata": {
  "kernelspec": {
   "display_name": "Python 3-12 (COMM4190)",
   "language": "python",
   "name": "python3-12_comm4190"
  },
  "language_info": {
   "codemirror_mode": {
    "name": "ipython",
    "version": 3
   },
   "file_extension": ".py",
   "mimetype": "text/x-python",
   "name": "python",
   "nbconvert_exporter": "python",
   "pygments_lexer": "ipython3",
   "version": "3.12.11"
  }
 },
 "nbformat": 4,
 "nbformat_minor": 5
}
